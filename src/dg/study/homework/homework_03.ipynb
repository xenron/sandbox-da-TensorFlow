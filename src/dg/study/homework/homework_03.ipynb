{
 "cells": [
  {
   "cell_type": "code",
   "execution_count": 1,
   "metadata": {
    "collapsed": false
   },
   "outputs": [],
   "source": [
    "import tensorflow as tf\n",
    "from tensorflow.examples.tutorials.mnist import input_data"
   ]
  },
  {
   "cell_type": "code",
   "execution_count": 9,
   "metadata": {
    "collapsed": false
   },
   "outputs": [
    {
     "name": "stdout",
     "output_type": "stream",
     "text": [
      "Extracting MNIST_data/train-images-idx3-ubyte.gz\n",
      "Extracting MNIST_data/train-labels-idx1-ubyte.gz\n",
      "Extracting MNIST_data/t10k-images-idx3-ubyte.gz\n",
      "Extracting MNIST_data/t10k-labels-idx1-ubyte.gz\n",
      "Iter 0,Testing Accuracy 0.8786\n",
      "Iter 1,Testing Accuracy 0.9003\n",
      "Iter 2,Testing Accuracy 0.9119\n",
      "Iter 3,Testing Accuracy 0.9197\n",
      "Iter 4,Testing Accuracy 0.9251\n",
      "Iter 5,Testing Accuracy 0.9282\n",
      "Iter 6,Testing Accuracy 0.9298\n",
      "Iter 7,Testing Accuracy 0.9329\n",
      "Iter 8,Testing Accuracy 0.9343\n",
      "Iter 9,Testing Accuracy 0.9378\n",
      "Iter 10,Testing Accuracy 0.9396\n",
      "Iter 11,Testing Accuracy 0.9414\n",
      "Iter 12,Testing Accuracy 0.9431\n",
      "Iter 13,Testing Accuracy 0.9457\n",
      "Iter 14,Testing Accuracy 0.947\n",
      "Iter 15,Testing Accuracy 0.9465\n",
      "Iter 16,Testing Accuracy 0.9483\n",
      "Iter 17,Testing Accuracy 0.9488\n",
      "Iter 18,Testing Accuracy 0.9499\n",
      "Iter 19,Testing Accuracy 0.9504\n",
      "Iter 20,Testing Accuracy 0.9514\n",
      "Iter 21,Testing Accuracy 0.9524\n",
      "Iter 22,Testing Accuracy 0.9523\n",
      "Iter 23,Testing Accuracy 0.9533\n",
      "Iter 24,Testing Accuracy 0.955\n",
      "Iter 25,Testing Accuracy 0.9542\n",
      "Iter 26,Testing Accuracy 0.9554\n",
      "Iter 27,Testing Accuracy 0.9555\n",
      "Iter 28,Testing Accuracy 0.957\n",
      "Iter 29,Testing Accuracy 0.9575\n"
     ]
    }
   ],
   "source": [
    "#载入数据集\n",
    "mnist = input_data.read_data_sets(\"MNIST_data\",one_hot=True)\n",
    "\n",
    "#每个批次的大小\n",
    "batch_size = 100\n",
    "\n",
    "#计算一共有多少个批次\n",
    "n_batch = mnist.train.num_examples // batch_size\n",
    "\n",
    "#定义两个placeholder\n",
    "x = tf.placeholder(tf.float32,[None,784])\n",
    "y_ = tf.placeholder(tf.float32,[None,10])\n",
    "\n",
    "# 创建一个简单的神经网络\n",
    "weights1 = tf.Variable(tf.truncated_normal([784, 500], stddev=0.1))\n",
    "bias1 = tf.Variable(tf.constant(0.0, shape=[500]))\n",
    "weights2 = tf.Variable(tf.truncated_normal([500, 10], stddev=0.1))\n",
    "bias2 = tf.Variable(tf.constant(0.0, shape=[10]))\n",
    "layer1 = tf.nn.relu(tf.matmul(x, weights1) + bias1)\n",
    "y = tf.matmul(layer1, weights2) + bias2\n",
    "global_step = tf.Variable(0, trainable=False)\n",
    "\n",
    "cross_entropy = tf.nn.softmax_cross_entropy_with_logits(labels=y_, logits=y)\n",
    "\n",
    "#二次代价函数\n",
    "loss = tf.reduce_mean(cross_entropy)\n",
    "cross_entropy = -tf.reduce_sum(y_ * tf.log(y))\n",
    "#使用梯度下降法\n",
    "train_step = tf.train.GradientDescentOptimizer(0.01).minimize(loss, global_step=global_step)\n",
    "\n",
    "#初始化变量\n",
    "init = tf.global_variables_initializer()\n",
    "\n",
    "#结果存放在一个布尔型列表中\n",
    "correct_prediction = tf.equal(tf.argmax(y, 1), tf.argmax(y_,1))\n",
    "\n",
    "#求准确率\n",
    "accuracy = tf.reduce_mean(tf.cast(correct_prediction,tf.float32))\n",
    "\n",
    "with tf.Session() as sess:\n",
    "    sess.run(init)\n",
    "    for epoch in range(30):\n",
    "        for batch in range(n_batch):\n",
    "            batch_xs,batch_ys =  mnist.train.next_batch(batch_size)\n",
    "            sess.run(train_step,feed_dict={x:batch_xs,y_:batch_ys})\n",
    "        \n",
    "        correct_prediction = tf.equal(tf.arg_max(y,1), tf.argmax(y_,1))\n",
    "        acc = tf.reduce_mean(tf.cast(correct_prediction, \"float\"))\n",
    "        acc = sess.run(acc,feed_dict={x:mnist.test.images,y_:mnist.test.labels})\n",
    "        \n",
    "        print(\"Iter \" + str(epoch) + \",Testing Accuracy \" + str(acc))"
   ]
  },
  {
   "cell_type": "code",
   "execution_count": 17,
   "metadata": {
    "collapsed": true
   },
   "outputs": [],
   "source": [
    "def addLayer(inputData,inSize,outSize,activity_function = None):  \n",
    "    Weights = tf.Variable(tf.random_normal([inSize,outSize]))   \n",
    "    basis = tf.Variable(tf.zeros([1,outSize])+0.1)    \n",
    "    weights_plus_b = tf.matmul(inputData,Weights)+basis  \n",
    "    if activity_function is None:  \n",
    "        ans = weights_plus_b  \n",
    "    else:  \n",
    "        ans = activity_function(weights_plus_b)  \n",
    "    return ans"
   ]
  },
  {
   "cell_type": "code",
   "execution_count": null,
   "metadata": {
    "collapsed": true
   },
   "outputs": [],
   "source": []
  }
 ],
 "metadata": {
  "anaconda-cloud": {},
  "kernelspec": {
   "display_name": "Python 2",
   "language": "python",
   "name": "python2"
  },
  "language_info": {
   "codemirror_mode": {
    "name": "ipython",
    "version": 2
   },
   "file_extension": ".py",
   "mimetype": "text/x-python",
   "name": "python",
   "nbconvert_exporter": "python",
   "pygments_lexer": "ipython2",
   "version": "2.7.13"
  }
 },
 "nbformat": 4,
 "nbformat_minor": 1
}
